{
  "nbformat": 4,
  "nbformat_minor": 0,
  "metadata": {
    "colab": {
      "name": "Lab-4.ipynb",
      "provenance": [],
      "authorship_tag": "ABX9TyO2ZWJWhvTxZ6rA/IUXpLVB",
      "include_colab_link": true
    },
    "kernelspec": {
      "name": "python3",
      "display_name": "Python 3"
    },
    "language_info": {
      "name": "python"
    }
  },
  "cells": [
    {
      "cell_type": "markdown",
      "metadata": {
        "id": "view-in-github",
        "colab_type": "text"
      },
      "source": [
        "<a href=\"https://colab.research.google.com/github/Shubhayang6/T-and-T-LAB/blob/main/Lab_4.ipynb\" target=\"_parent\"><img src=\"https://colab.research.google.com/assets/colab-badge.svg\" alt=\"Open In Colab\"/></a>"
      ]
    },
    {
      "cell_type": "markdown",
      "source": [
        "4.6 WAP to print odd and even nos separately within a given range."
      ],
      "metadata": {
        "id": "b2SQIZBgo4Nc"
      }
    },
    {
      "cell_type": "code",
      "execution_count": 8,
      "metadata": {
        "colab": {
          "base_uri": "https://localhost:8080/"
        },
        "id": "-DYaE958oD8G",
        "outputId": "c457cf34-0586-4b67-a212-3a976a2fa1b4"
      },
      "outputs": [
        {
          "output_type": "stream",
          "name": "stdout",
          "text": [
            "Enter the no to start with: 15\n",
            "Enter the no to end with: 25\n",
            "The odd nos are:  [15, 17, 19, 21, 23, 25]\n",
            "The even nos are:  [16, 18, 20, 22, 24]\n"
          ]
        }
      ],
      "source": [
        "# get the range input\n",
        "lower=int(input(\"Enter the no to start with: \"))\n",
        "upper=int(input(\"Enter the no to end with: \"))\n",
        "odd=[]\n",
        "even=[]\n",
        "def detect_odd_even():\n",
        "  for i in range(lower,upper+1):\n",
        "    if(i%2!=0):\n",
        "      odd.append(i)\n",
        "    if(i%2==0):\n",
        "      even.append(i)\n",
        "        \n",
        "nos=detect_odd_even()\n",
        "print(\"The odd nos are: \",odd)\n",
        "print(\"The even nos are: \",even)\n",
        "          "
      ]
    },
    {
      "cell_type": "markdown",
      "source": [
        "4.8 WAP to check a number is perfect or not."
      ],
      "metadata": {
        "id": "sm1pp9IVuGSR"
      }
    },
    {
      "cell_type": "code",
      "source": [
        "n=int(input(\"Enter the number: \"))\n",
        "\n",
        "def perfect_no():\n",
        "  sum=0\n",
        "  for i in range(1,n):\n",
        "    if(n%i==0):\n",
        "      sum=sum+i\n",
        "  if(sum==n):\n",
        "    print(\"The no is perfect\")\n",
        "  else:\n",
        "    print(\"The no is not perfect\")\n",
        "perfect_no()          "
      ],
      "metadata": {
        "colab": {
          "base_uri": "https://localhost:8080/"
        },
        "id": "LgXg9PJYxB8b",
        "outputId": "5b311b9f-d2d4-4fb9-87ee-ff62d9f0ed51"
      },
      "execution_count": 18,
      "outputs": [
        {
          "output_type": "stream",
          "name": "stdout",
          "text": [
            "Enter the number: 28\n",
            "The no is perfect\n"
          ]
        }
      ]
    },
    {
      "cell_type": "markdown",
      "source": [
        "4.10 WAP to print prime factors of a number"
      ],
      "metadata": {
        "id": "GH93v3F46cEn"
      }
    },
    {
      "cell_type": "code",
      "source": [
        "# python program to print prime factors\n",
        " \n",
        "import math\n",
        "def primefactors(n):\n",
        "   #even number divisible\n",
        "   while n % 2 == 0:\n",
        "      print (2),\n",
        "      n = n / 2\n",
        "    \n",
        "   #n became odd\n",
        "   for i in range(3,int(math.sqrt(n))+1,2):\n",
        "     \n",
        "      while (n % i == 0):\n",
        "         print (i)\n",
        "         n = n / i\n",
        "    \n",
        "   if n > 2:\n",
        "      print (n)\n",
        " \n",
        "n = int(input(\"Enter the number for calculating the prime factors :\\n\"))\n",
        "primefactors(n)"
      ],
      "metadata": {
        "colab": {
          "base_uri": "https://localhost:8080/"
        },
        "id": "l3zmLS0B5S-c",
        "outputId": "a48f9a43-95ba-4c62-9671-d7f3d854920f"
      },
      "execution_count": 19,
      "outputs": [
        {
          "output_type": "stream",
          "name": "stdout",
          "text": [
            "Enter the number for calculating the prime factors :\n",
            "16\n",
            "2\n",
            "2\n",
            "2\n",
            "2\n"
          ]
        }
      ]
    },
    {
      "cell_type": "markdown",
      "source": [
        "4.11 WAP to print 'n' numbers in fibonacci series"
      ],
      "metadata": {
        "id": "Xed5PvDh7ZvU"
      }
    },
    {
      "cell_type": "code",
      "source": [
        "n=int(input(\"Enetr the number: \"))\n",
        "def printFibonacciNumbers(n):\n",
        " \n",
        "    f1 = 0\n",
        "    f2 = 1\n",
        "    if (n < 1):\n",
        "        return\n",
        "    print(f1, end=\" \")\n",
        "    for x in range(1, n):\n",
        "        print(f2, end=\" \")\n",
        "        next = f1 + f2\n",
        "        f1 = f2\n",
        "        f2 = next\n",
        " \n",
        "printFibonacciNumbers(n)"
      ],
      "metadata": {
        "colab": {
          "base_uri": "https://localhost:8080/"
        },
        "id": "0p7WOyJf7Wx8",
        "outputId": "f19e6712-559c-413f-e45f-b6acbba263e3"
      },
      "execution_count": 23,
      "outputs": [
        {
          "output_type": "stream",
          "name": "stdout",
          "text": [
            "Enetr the number: 6\n",
            "0 1 1 2 3 5 "
          ]
        }
      ]
    },
    {
      "cell_type": "markdown",
      "source": [
        "4.17 WAP to print full pyramid pattern."
      ],
      "metadata": {
        "id": "Jgtr4FMG8FH1"
      }
    },
    {
      "cell_type": "code",
      "source": [
        "rows = int(input(\"Enter number of rows: \"))\n",
        "def full_pyramid(rows):\n",
        "  k = 0\n",
        "  for i in range(1, rows+1):\n",
        "      for space in range(1, (rows-i)+1):\n",
        "          print(end=\"  \")\n",
        "    \n",
        "      while k!=(2*i-1):\n",
        "          print(\"* \", end=\"\")\n",
        "          k += 1\n",
        "    \n",
        "      k = 0\n",
        "      print()\n",
        "full_pyramid(rows)"
      ],
      "metadata": {
        "colab": {
          "base_uri": "https://localhost:8080/"
        },
        "id": "d_ney7V38S49",
        "outputId": "4d05edc6-9e36-48d5-ea27-42835d708c0b"
      },
      "execution_count": 25,
      "outputs": [
        {
          "output_type": "stream",
          "name": "stdout",
          "text": [
            "Enter number of rows: 5\n",
            "        * \n",
            "      * * * \n",
            "    * * * * * \n",
            "  * * * * * * * \n",
            "* * * * * * * * * \n"
          ]
        }
      ]
    }
  ]
}