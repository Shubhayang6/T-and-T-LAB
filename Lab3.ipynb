{
  "nbformat": 4,
  "nbformat_minor": 0,
  "metadata": {
    "colab": {
      "name": "Lab3.ipynb",
      "provenance": [],
      "authorship_tag": "ABX9TyOVHu4Bx5l4mDzA5FW9UCdO",
      "include_colab_link": true
    },
    "kernelspec": {
      "name": "python3",
      "display_name": "Python 3"
    },
    "language_info": {
      "name": "python"
    }
  },
  "cells": [
    {
      "cell_type": "markdown",
      "metadata": {
        "id": "view-in-github",
        "colab_type": "text"
      },
      "source": [
        "<a href=\"https://colab.research.google.com/github/Shubhayang6/T-and-T-LAB/blob/main/Lab3.ipynb\" target=\"_parent\"><img src=\"https://colab.research.google.com/assets/colab-badge.svg\" alt=\"Open In Colab\"/></a>"
      ]
    },
    {
      "cell_type": "markdown",
      "source": [
        "3.2(WAP to calculate the sum of digits of a given number)"
      ],
      "metadata": {
        "id": "ZSEkXTm03huY"
      }
    },
    {
      "cell_type": "code",
      "execution_count": 9,
      "metadata": {
        "colab": {
          "base_uri": "https://localhost:8080/"
        },
        "id": "6fLXYmlu2sXY",
        "outputId": "5a7c431a-7af0-493d-f1f7-1ac6070962d9"
      },
      "outputs": [
        {
          "output_type": "stream",
          "name": "stdout",
          "text": [
            "Enter the value: 55\n",
            "10\n",
            "<class 'str'>\n"
          ]
        }
      ],
      "source": [
        "number=input(\"Enter the value: \")\n",
        "sum=0\n",
        "for i in range(len(number)):\n",
        "  sum+=int(number[i])\n",
        "print(sum)\n"
      ]
    },
    {
      "cell_type": "markdown",
      "source": [
        "3.3(WAP to reverse a number)"
      ],
      "metadata": {
        "id": "xJZuKMB39GqA"
      }
    },
    {
      "cell_type": "code",
      "source": [
        "number=input(\"Enter the value: \")\n",
        "for i in range(len(number)):\n",
        "  reverse=number[::-1]\n",
        "print(reverse)"
      ],
      "metadata": {
        "colab": {
          "base_uri": "https://localhost:8080/"
        },
        "id": "-mVTIxa-9Q4j",
        "outputId": "c119fca2-2f22-4151-ec7b-7d4055be7b9d"
      },
      "execution_count": 17,
      "outputs": [
        {
          "output_type": "stream",
          "name": "stdout",
          "text": [
            "Enter the value: 67890\n",
            "09876\n"
          ]
        }
      ]
    },
    {
      "cell_type": "markdown",
      "source": [
        "3.1(Find factorial of a number)"
      ],
      "metadata": {
        "id": "vZe7vlxjCYKN"
      }
    },
    {
      "cell_type": "code",
      "source": [
        "number=int(input(\"Enter the value: \"))\n",
        "if number<0:\n",
        "  print(0)\n",
        "elif number==0 or number==1:\n",
        "  print(1)\n",
        "else:\n",
        "  fact=1\n",
        "  while(number>1):\n",
        "    fact*=number\n",
        "    number-=1\n",
        "print(fact)"
      ],
      "metadata": {
        "colab": {
          "base_uri": "https://localhost:8080/"
        },
        "id": "v3ZkqUggCbr0",
        "outputId": "4457f885-da0f-4e8a-c389-b81e66b9c538"
      },
      "execution_count": 24,
      "outputs": [
        {
          "output_type": "stream",
          "name": "stdout",
          "text": [
            "Enter the value: 4\n",
            "24\n"
          ]
        }
      ]
    },
    {
      "cell_type": "markdown",
      "source": [
        "3.4(HCF of number)"
      ],
      "metadata": {
        "id": "p_0PUuGzF0AA"
      }
    },
    {
      "cell_type": "code",
      "source": [
        "x=int(input(\"Enter the value of x: \"))\n",
        "y=int(input(\"Enter the value of y: \"))\n",
        "if x>y:\n",
        "  smaller=y\n",
        "else:\n",
        "  smaller=x\n",
        "for i in range(1,smaller+1):\n",
        "  if((x%i==0) and (y%i==0)):\n",
        "    hcf=i\n",
        "print(hcf)"
      ],
      "metadata": {
        "colab": {
          "base_uri": "https://localhost:8080/"
        },
        "id": "NOVSB9-TGC72",
        "outputId": "3782454e-707e-45d4-921f-cd7a6f335713"
      },
      "execution_count": 25,
      "outputs": [
        {
          "output_type": "stream",
          "name": "stdout",
          "text": [
            "Enter the value of x: 5\n",
            "Enter the value of y: 10\n",
            "5\n"
          ]
        }
      ]
    },
    {
      "cell_type": "markdown",
      "source": [
        "3.15(Print following pattern)"
      ],
      "metadata": {
        "id": "MEwFHr9BKT_u"
      }
    },
    {
      "cell_type": "code",
      "source": [
        "def pattern(n):\n",
        "  for i in range(0,n):\n",
        "    for j in range(0,i+1):\n",
        "      print(\"* \",end=\" \")\n",
        "    print(\"\\r\")\n",
        "n=5\n",
        "pattern(n)"
      ],
      "metadata": {
        "colab": {
          "base_uri": "https://localhost:8080/"
        },
        "id": "FqR7c4TrKoiQ",
        "outputId": "f28e9e5e-2820-4381-d95a-d93bc049789a"
      },
      "execution_count": 33,
      "outputs": [
        {
          "output_type": "stream",
          "name": "stdout",
          "text": [
            "*  \r\n",
            "*  *  \r\n",
            "*  *  *  \r\n",
            "*  *  *  *  \r\n",
            "*  *  *  *  *  \r\n"
          ]
        }
      ]
    }
  ]
}